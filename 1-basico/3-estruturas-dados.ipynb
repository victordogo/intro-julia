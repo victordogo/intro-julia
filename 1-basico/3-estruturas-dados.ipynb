{
 "cells": [
  {
   "cell_type": "markdown",
   "id": "8f9d379d",
   "metadata": {},
   "source": [
    "# Estruturas de Dados\n",
    "\n",
    "## Dictionaries\n",
    "\n",
    "Dicionários são estruturas de dados com variáveis inter-relacionadas. Temos, por exemplo, uma lista de contatos com telefones:"
   ]
  },
  {
   "cell_type": "code",
   "execution_count": 1,
   "id": "130e663f",
   "metadata": {},
   "outputs": [
    {
     "data": {
      "text/plain": [
       "Dict{String, String} with 2 entries:\n",
       "  \"Victor\" => \"999\"\n",
       "  \"Silza\"  => \"785\""
      ]
     },
     "execution_count": 1,
     "metadata": {},
     "output_type": "execute_result"
    }
   ],
   "source": [
    "lista_contatos = Dict(\"Victor\" => \"999\", \"Silza\" => \"785\")\n",
    "lista_contatos"
   ]
  },
  {
   "cell_type": "markdown",
   "id": "9426aa19",
   "metadata": {},
   "source": [
    "Podemos adicionar facilmente novos elementos nesse dicionário:"
   ]
  },
  {
   "cell_type": "code",
   "execution_count": 2,
   "id": "87fada91",
   "metadata": {},
   "outputs": [
    {
     "data": {
      "text/plain": [
       "Dict{String, String} with 3 entries:\n",
       "  \"novo-nome\" => \"783\"\n",
       "  \"Victor\"    => \"999\"\n",
       "  \"Silza\"     => \"785\""
      ]
     },
     "execution_count": 2,
     "metadata": {},
     "output_type": "execute_result"
    }
   ],
   "source": [
    "lista_contatos[\"novo-nome\"] = \"783\"\n",
    "lista_contatos"
   ]
  },
  {
   "cell_type": "markdown",
   "id": "4be7f8f3",
   "metadata": {},
   "source": [
    "Podemos facilmente obter o número de alguém na lista de contatos através da seguinte sintaxe:"
   ]
  },
  {
   "cell_type": "code",
   "execution_count": 3,
   "id": "f9daeb12",
   "metadata": {},
   "outputs": [
    {
     "data": {
      "text/plain": [
       "\"999\""
      ]
     },
     "execution_count": 3,
     "metadata": {},
     "output_type": "execute_result"
    }
   ],
   "source": [
    "lista_contatos[\"Victor\"]"
   ]
  },
  {
   "cell_type": "markdown",
   "id": "5516aaf0",
   "metadata": {},
   "source": [
    "Se quisermos obter **e** deletar alguém da lista de contatos, utilizamos a função pop! :"
   ]
  },
  {
   "cell_type": "code",
   "execution_count": 4,
   "id": "054231b4",
   "metadata": {},
   "outputs": [
    {
     "data": {
      "text/plain": [
       "\"999\""
      ]
     },
     "execution_count": 4,
     "metadata": {},
     "output_type": "execute_result"
    }
   ],
   "source": [
    "pop!(lista_contatos, \"Victor\")"
   ]
  },
  {
   "cell_type": "code",
   "execution_count": 5,
   "id": "8abdd160",
   "metadata": {},
   "outputs": [
    {
     "data": {
      "text/plain": [
       "Dict{String, String} with 2 entries:\n",
       "  \"novo-nome\" => \"783\"\n",
       "  \"Silza\"     => \"785\""
      ]
     },
     "execution_count": 5,
     "metadata": {},
     "output_type": "execute_result"
    }
   ],
   "source": [
    "lista_contatos"
   ]
  },
  {
   "cell_type": "markdown",
   "id": "b50983d0",
   "metadata": {},
   "source": [
    "Dicionários não permitem que se use sintaxe de indexação para acessarmos elementos:"
   ]
  },
  {
   "cell_type": "code",
   "execution_count": 6,
   "id": "63ba84aa",
   "metadata": {},
   "outputs": [
    {
     "ename": "LoadError",
     "evalue": "KeyError: key 1 not found",
     "output_type": "error",
     "traceback": [
      "KeyError: key 1 not found",
      "",
      "Stacktrace:",
      " [1] getindex(h::Dict{String, String}, key::Int64)",
      "   @ Base .\\dict.jl:481",
      " [2] top-level scope",
      "   @ In[6]:1",
      " [3] eval",
      "   @ .\\boot.jl:373 [inlined]",
      " [4] include_string(mapexpr::typeof(REPL.softscope), mod::Module, code::String, filename::String)",
      "   @ Base .\\loading.jl:1196"
     ]
    }
   ],
   "source": [
    "lista_contatos[1]"
   ]
  },
  {
   "cell_type": "markdown",
   "id": "59c05bfd",
   "metadata": {},
   "source": [
    "## Tuples\n",
    "\n",
    "Tuples são criados a partir de elementos dentro de parênteses:"
   ]
  },
  {
   "cell_type": "code",
   "execution_count": 7,
   "id": "52cdf98c",
   "metadata": {},
   "outputs": [
    {
     "data": {
      "text/plain": [
       "(\"cachorro\", \"gato\", \"passaro\")"
      ]
     },
     "execution_count": 7,
     "metadata": {},
     "output_type": "execute_result"
    }
   ],
   "source": [
    "animais=(\"cachorro\",\"gato\",\"passaro\")"
   ]
  },
  {
   "cell_type": "markdown",
   "id": "02e2577f",
   "metadata": {},
   "source": [
    "É possível acessarmos elementos de um tuple a partir de indexação (começando a partir de 1 e não 0):"
   ]
  },
  {
   "cell_type": "code",
   "execution_count": 8,
   "id": "f6190ced",
   "metadata": {},
   "outputs": [
    {
     "data": {
      "text/plain": [
       "\"cachorro\""
      ]
     },
     "execution_count": 8,
     "metadata": {},
     "output_type": "execute_result"
    }
   ],
   "source": [
    "animais[1]"
   ]
  },
  {
   "cell_type": "markdown",
   "id": "a2f1b3f5",
   "metadata": {},
   "source": [
    "No entanto, tuples não podem ser modificados ou atualizados:"
   ]
  },
  {
   "cell_type": "code",
   "execution_count": 12,
   "id": "001e881d",
   "metadata": {},
   "outputs": [
    {
     "ename": "LoadError",
     "evalue": "MethodError: no method matching setindex!(::Tuple{String, String, String}, ::String, ::Int64)",
     "output_type": "error",
     "traceback": [
      "MethodError: no method matching setindex!(::Tuple{String, String, String}, ::String, ::Int64)",
      "",
      "Stacktrace:",
      " [1] top-level scope",
      "   @ In[12]:1",
      " [2] eval",
      "   @ .\\boot.jl:373 [inlined]",
      " [3] include_string(mapexpr::typeof(REPL.softscope), mod::Module, code::String, filename::String)",
      "   @ Base .\\loading.jl:1196"
     ]
    }
   ],
   "source": [
    "animais[1]=\"hamster\""
   ]
  },
  {
   "cell_type": "markdown",
   "id": "2900c570",
   "metadata": {},
   "source": [
    "## Arrays\n",
    "\n",
    "Arrays (ou vetores) podem ser indexados e atualizados. São criados a aprtir de [] :"
   ]
  },
  {
   "cell_type": "code",
   "execution_count": 10,
   "id": "3f3f8a62",
   "metadata": {},
   "outputs": [
    {
     "data": {
      "text/plain": [
       "3-element Vector{String}:\n",
       " \"AnaBe\"\n",
       " \"Manu\"\n",
       " \"Larissa\""
      ]
     },
     "execution_count": 10,
     "metadata": {},
     "output_type": "execute_result"
    }
   ],
   "source": [
    "amigos=[\"AnaBe\", \"Manu\", \"Larissa\"]"
   ]
  },
  {
   "cell_type": "markdown",
   "id": "139dce59",
   "metadata": {},
   "source": [
    "Podem conter elementos como números também:"
   ]
  },
  {
   "cell_type": "code",
   "execution_count": 11,
   "id": "be1df7fc",
   "metadata": {},
   "outputs": [
    {
     "data": {
      "text/plain": [
       "7-element Vector{Int64}:\n",
       "  1\n",
       "  1\n",
       "  2\n",
       "  3\n",
       "  5\n",
       "  8\n",
       " 13"
      ]
     },
     "execution_count": 11,
     "metadata": {},
     "output_type": "execute_result"
    }
   ],
   "source": [
    "fibonacci=[1,1,2,3,5,8,13]"
   ]
  },
  {
   "cell_type": "markdown",
   "id": "78570f34",
   "metadata": {},
   "source": [
    "Podemos criar vetores com diferentes tipos de elementos:"
   ]
  },
  {
   "cell_type": "code",
   "execution_count": 13,
   "id": "a7e606dd",
   "metadata": {},
   "outputs": [
    {
     "data": {
      "text/plain": [
       "5-element Vector{Any}:\n",
       " 1\n",
       " 2\n",
       " 3\n",
       "  \"olá\"\n",
       " 3.5"
      ]
     },
     "execution_count": 13,
     "metadata": {},
     "output_type": "execute_result"
    }
   ],
   "source": [
    "mistura=[1,2,3,\"olá\",3.5]"
   ]
  },
  {
   "cell_type": "markdown",
   "id": "91ad9fca",
   "metadata": {},
   "source": [
    "Podemos acessar seus elementos através de indexação:"
   ]
  },
  {
   "cell_type": "code",
   "execution_count": 14,
   "id": "d67c4d0d",
   "metadata": {},
   "outputs": [
    {
     "data": {
      "text/plain": [
       "\"AnaBe\""
      ]
     },
     "execution_count": 14,
     "metadata": {},
     "output_type": "execute_result"
    }
   ],
   "source": [
    "amigos[1]"
   ]
  },
  {
   "cell_type": "markdown",
   "id": "545d105f",
   "metadata": {},
   "source": [
    "E também atualizar o vetor:"
   ]
  },
  {
   "cell_type": "code",
   "execution_count": 16,
   "id": "d879828e",
   "metadata": {},
   "outputs": [
    {
     "data": {
      "text/plain": [
       "\"Astolfo\""
      ]
     },
     "execution_count": 16,
     "metadata": {},
     "output_type": "execute_result"
    }
   ],
   "source": [
    "amigos[3]=\"Astolfo\""
   ]
  },
  {
   "cell_type": "markdown",
   "id": "b743d76d",
   "metadata": {},
   "source": [
    "Podemos adicionar e remover elementos de um vetor através das funções push! e pop! respectivamente. Por padrão, as funções adicionam um elemento no final de um vetor:"
   ]
  },
  {
   "cell_type": "code",
   "execution_count": 17,
   "id": "7d3ddbf2",
   "metadata": {},
   "outputs": [
    {
     "data": {
      "text/plain": [
       "8-element Vector{Int64}:\n",
       "  1\n",
       "  1\n",
       "  2\n",
       "  3\n",
       "  5\n",
       "  8\n",
       " 13\n",
       " 21"
      ]
     },
     "execution_count": 17,
     "metadata": {},
     "output_type": "execute_result"
    }
   ],
   "source": [
    "push!(fibonacci,21)"
   ]
  },
  {
   "cell_type": "code",
   "execution_count": 18,
   "id": "85a8e40b",
   "metadata": {},
   "outputs": [
    {
     "data": {
      "text/plain": [
       "7-element Vector{Int64}:\n",
       "  1\n",
       "  1\n",
       "  2\n",
       "  3\n",
       "  5\n",
       "  8\n",
       " 13"
      ]
     },
     "execution_count": 18,
     "metadata": {},
     "output_type": "execute_result"
    }
   ],
   "source": [
    "pop!(fibonacci)\n",
    "fibonacci"
   ]
  },
  {
   "cell_type": "markdown",
   "id": "8340ac17",
   "metadata": {},
   "source": [
    "Por fim, vetores podem ter várias dimensões (ou seja, criamos vetores dentro de vetores):"
   ]
  },
  {
   "cell_type": "code",
   "execution_count": 19,
   "id": "e93e5888",
   "metadata": {},
   "outputs": [
    {
     "data": {
      "text/plain": [
       "3-element Vector{Vector{Int64}}:\n",
       " [1, 2, 3]\n",
       " [4, 5, 6]\n",
       " [7, 8, 9, 10]"
      ]
     },
     "execution_count": 19,
     "metadata": {},
     "output_type": "execute_result"
    }
   ],
   "source": [
    "numeros=[[1,2,3],[4,5,6],[7,8,9,10]]"
   ]
  },
  {
   "cell_type": "markdown",
   "id": "8478a015",
   "metadata": {},
   "source": [
    "Se quisermos acessar o primeiro elemento do terceiro vetor integrante de um vetor:"
   ]
  },
  {
   "cell_type": "code",
   "execution_count": 21,
   "id": "5f7d0177",
   "metadata": {},
   "outputs": [
    {
     "data": {
      "text/plain": [
       "7"
      ]
     },
     "execution_count": 21,
     "metadata": {},
     "output_type": "execute_result"
    }
   ],
   "source": [
    "numeros[3][1]"
   ]
  },
  {
   "cell_type": "markdown",
   "id": "c629442c",
   "metadata": {},
   "source": [
    "A função rand() pode gerar um vetor de n dimensões a partir de seus argumentos. Para duas dimensões:"
   ]
  },
  {
   "cell_type": "code",
   "execution_count": 22,
   "id": "3230f261",
   "metadata": {},
   "outputs": [
    {
     "data": {
      "text/plain": [
       "4×3 Matrix{Float64}:\n",
       " 0.592918  0.158736  0.847956\n",
       " 0.136305  0.949715  0.312802\n",
       " 0.740427  0.172733  0.828924\n",
       " 0.477446  0.722786  0.737975"
      ]
     },
     "execution_count": 22,
     "metadata": {},
     "output_type": "execute_result"
    }
   ],
   "source": [
    "rand(4,3)"
   ]
  },
  {
   "cell_type": "markdown",
   "id": "29f60d5b",
   "metadata": {},
   "source": [
    "E três dimensões:"
   ]
  },
  {
   "cell_type": "code",
   "execution_count": 23,
   "id": "72f08d7d",
   "metadata": {},
   "outputs": [
    {
     "data": {
      "text/plain": [
       "4×3×2 Array{Float64, 3}:\n",
       "[:, :, 1] =\n",
       " 0.0920339  0.269322  0.541038\n",
       " 0.506447   0.752059  0.248583\n",
       " 0.784807   0.66583   0.616899\n",
       " 0.703673   0.381626  0.358626\n",
       "\n",
       "[:, :, 2] =\n",
       " 0.0860922  0.986298  0.295748\n",
       " 0.499765   0.370653  0.695659\n",
       " 0.584533   0.992575  0.754953\n",
       " 0.241663   0.980235  0.462723"
      ]
     },
     "execution_count": 23,
     "metadata": {},
     "output_type": "execute_result"
    }
   ],
   "source": [
    "rand(4,3,2)"
   ]
  }
 ],
 "metadata": {
  "kernelspec": {
   "display_name": "Julia 1.7.1",
   "language": "julia",
   "name": "julia-1.7"
  },
  "language_info": {
   "file_extension": ".jl",
   "mimetype": "application/julia",
   "name": "julia",
   "version": "1.7.1"
  }
 },
 "nbformat": 4,
 "nbformat_minor": 5
}
