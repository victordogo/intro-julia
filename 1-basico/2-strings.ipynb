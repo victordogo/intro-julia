{
 "cells": [
  {
   "cell_type": "markdown",
   "id": "761dc976",
   "metadata": {},
   "source": [
    "# Strings"
   ]
  },
  {
   "cell_type": "markdown",
   "id": "0b9e0715",
   "metadata": {},
   "source": [
    "Para criar strings, é possível utilizar aspas \" ou aspas triplas \"\"\", como a seguir:"
   ]
  },
  {
   "cell_type": "code",
   "execution_count": 1,
   "id": "e643f43b",
   "metadata": {},
   "outputs": [
    {
     "data": {
      "text/plain": [
       "\"Sou uma String\""
      ]
     },
     "execution_count": 1,
     "metadata": {},
     "output_type": "execute_result"
    }
   ],
   "source": [
    "s1=\"Sou uma String\""
   ]
  },
  {
   "cell_type": "code",
   "execution_count": 2,
   "id": "c1b6c739",
   "metadata": {},
   "outputs": [
    {
     "data": {
      "text/plain": [
       "\"Também sou uma string\""
      ]
     },
     "execution_count": 2,
     "metadata": {},
     "output_type": "execute_result"
    }
   ],
   "source": [
    "s2=\"\"\"Também sou uma string\"\"\""
   ]
  },
  {
   "cell_type": "markdown",
   "id": "7c222a9e",
   "metadata": {},
   "source": [
    "No entanto, se quisermos usar aspas dentro de uma string, devemos usar o ultimo caso:"
   ]
  },
  {
   "cell_type": "code",
   "execution_count": 3,
   "id": "4918a052",
   "metadata": {},
   "outputs": [
    {
     "ename": "LoadError",
     "evalue": "syntax: cannot juxtapose string literal",
     "output_type": "error",
     "traceback": [
      "syntax: cannot juxtapose string literal",
      "",
      "Stacktrace:",
      " [1] top-level scope",
      "   @ In[3]:1",
      " [2] eval",
      "   @ .\\boot.jl:373 [inlined]",
      " [3] include_string(mapexpr::typeof(REPL.softscope), mod::Module, code::String, filename::String)",
      "   @ Base .\\loading.jl:1196"
     ]
    }
   ],
   "source": [
    "\"Aqui existe um \"erro\"\""
   ]
  },
  {
   "cell_type": "code",
   "execution_count": 4,
   "id": "bb0e88ca",
   "metadata": {},
   "outputs": [
    {
     "data": {
      "text/plain": [
       "\"Aqui não há \\\"erros\\\"! \""
      ]
     },
     "execution_count": 4,
     "metadata": {},
     "output_type": "execute_result"
    }
   ],
   "source": [
    "\"\"\"Aqui não há \"erros\"! \"\"\""
   ]
  },
  {
   "cell_type": "markdown",
   "id": "7b94ba7d",
   "metadata": {},
   "source": [
    "Aspas simples '' definem caracteres, mas não strings:"
   ]
  },
  {
   "cell_type": "code",
   "execution_count": 5,
   "id": "ae9c96a1",
   "metadata": {},
   "outputs": [
    {
     "data": {
      "text/plain": [
       "Char"
      ]
     },
     "execution_count": 5,
     "metadata": {},
     "output_type": "execute_result"
    }
   ],
   "source": [
    "typeof('a')"
   ]
  },
  {
   "cell_type": "code",
   "execution_count": 6,
   "id": "9bae54e5",
   "metadata": {},
   "outputs": [
    {
     "ename": "LoadError",
     "evalue": "syntax: character literal contains multiple characters",
     "output_type": "error",
     "traceback": [
      "syntax: character literal contains multiple characters",
      "",
      "Stacktrace:",
      " [1] top-level scope",
      "   @ In[6]:1",
      " [2] eval",
      "   @ .\\boot.jl:373 [inlined]",
      " [3] include_string(mapexpr::typeof(REPL.softscope), mod::Module, code::String, filename::String)",
      "   @ Base .\\loading.jl:1196"
     ]
    }
   ],
   "source": [
    "'Mais um erro!'"
   ]
  },
  {
   "cell_type": "markdown",
   "id": "7beec73f",
   "metadata": {},
   "source": [
    "## Interpolação de Strings\n",
    "\n",
    "Podemos usar o sinal $ para inserir strings definidas no codigo num comando print. Isso é útil para apresentar resultados, como por exemplo:"
   ]
  },
  {
   "cell_type": "code",
   "execution_count": 8,
   "id": "49522e2c",
   "metadata": {},
   "outputs": [
    {
     "name": "stdout",
     "output_type": "stream",
     "text": [
      "Olá, meu nome é Victor.\n",
      "Tenho 10 dedos nas mãos e 10 dedos nos pés. São 20 dedos no total!\n"
     ]
    }
   ],
   "source": [
    "nome=\"Victor\"\n",
    "num_mao=10\n",
    "num_pe=10\n",
    "\n",
    "println(\"Olá, meu nome é $nome.\")\n",
    "println(\"Tenho $num_mao dedos nas mãos e $num_pe dedos nos pés. São $(num_mao+num_pe) dedos no total!\")"
   ]
  },
  {
   "cell_type": "markdown",
   "id": "64bb7a90",
   "metadata": {},
   "source": [
    "## Concatenação de Strings\n",
    "\n",
    "Existem diversas formas de juntar um número de strings num só. Um deles é através da função `string()`, que também converte inputs não-strings em strings."
   ]
  },
  {
   "cell_type": "code",
   "execution_count": 10,
   "id": "6f0ab087",
   "metadata": {},
   "outputs": [
    {
     "data": {
      "text/plain": [
       "\"Quantos gatos são gatos demais?\""
      ]
     },
     "execution_count": 10,
     "metadata": {},
     "output_type": "execute_result"
    }
   ],
   "source": [
    "string(\"Quantos gatos \", \"são gatos demais?\")"
   ]
  },
  {
   "cell_type": "code",
   "execution_count": 11,
   "id": "cc6ba8e2",
   "metadata": {},
   "outputs": [
    {
     "data": {
      "text/plain": [
       "\"Não sei, mas 10 já são muitos!\""
      ]
     },
     "execution_count": 11,
     "metadata": {},
     "output_type": "execute_result"
    }
   ],
   "source": [
    "string(\"Não sei, mas \", 10, \" já são muitos!\")"
   ]
  },
  {
   "cell_type": "markdown",
   "id": "4920e20c",
   "metadata": {},
   "source": [
    "Também é possível usar o operador `*` ou interpolação de strings!"
   ]
  },
  {
   "cell_type": "code",
   "execution_count": 12,
   "id": "ffa5ffe4",
   "metadata": {},
   "outputs": [
    {
     "data": {
      "text/plain": [
       "\"são gatos demais?\""
      ]
     },
     "execution_count": 12,
     "metadata": {},
     "output_type": "execute_result"
    }
   ],
   "source": [
    "s3=\"Quantos gatos \"\n",
    "s4=\"são gatos demais?\""
   ]
  },
  {
   "cell_type": "code",
   "execution_count": 13,
   "id": "545c9f5f",
   "metadata": {},
   "outputs": [
    {
     "data": {
      "text/plain": [
       "\"Quantos gatos são gatos demais?\""
      ]
     },
     "execution_count": 13,
     "metadata": {},
     "output_type": "execute_result"
    }
   ],
   "source": [
    "s3*s4"
   ]
  },
  {
   "cell_type": "code",
   "execution_count": 14,
   "id": "0ad9ed48",
   "metadata": {},
   "outputs": [
    {
     "data": {
      "text/plain": [
       "\"Quantos gatos são gatos demais?\""
      ]
     },
     "execution_count": 14,
     "metadata": {},
     "output_type": "execute_result"
    }
   ],
   "source": [
    "\"$s3$s4\""
   ]
  },
  {
   "cell_type": "code",
   "execution_count": null,
   "id": "113d70e2",
   "metadata": {},
   "outputs": [],
   "source": []
  }
 ],
 "metadata": {
  "kernelspec": {
   "display_name": "Julia 1.7.1",
   "language": "julia",
   "name": "julia-1.7"
  },
  "language_info": {
   "file_extension": ".jl",
   "mimetype": "application/julia",
   "name": "julia",
   "version": "1.7.1"
  }
 },
 "nbformat": 4,
 "nbformat_minor": 5
}
