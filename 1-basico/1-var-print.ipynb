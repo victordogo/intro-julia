{
 "cells": [
  {
   "cell_type": "markdown",
   "id": "d1023de0",
   "metadata": {},
   "source": [
    "# Variávels e Printing\n",
    "\n",
    "## Como Printar"
   ]
  },
  {
   "cell_type": "code",
   "execution_count": 1,
   "id": "c6560c82",
   "metadata": {},
   "outputs": [
    {
     "name": "stdout",
     "output_type": "stream",
     "text": [
      "Hello World!\n"
     ]
    }
   ],
   "source": [
    "# A maneira mais facil de se printar na linguagem Julia eh atraves da funcao println\n",
    "\n",
    "println(\"Hello World!\")"
   ]
  },
  {
   "cell_type": "markdown",
   "id": "af0f579a",
   "metadata": {},
   "source": [
    "## Criar variáveis"
   ]
  },
  {
   "cell_type": "code",
   "execution_count": 2,
   "id": "c276b559",
   "metadata": {},
   "outputs": [
    {
     "data": {
      "text/plain": [
       "Int64"
      ]
     },
     "execution_count": 2,
     "metadata": {},
     "output_type": "execute_result"
    }
   ],
   "source": [
    "# Para criar variaveis, soh eh necessario sinal de igual, um nome e um valor. Julia determina automaticamente o tipo de variavel\n",
    "\n",
    "resposta = 42\n",
    "typeof(resposta) # Numero inteiro"
   ]
  },
  {
   "cell_type": "code",
   "execution_count": 3,
   "id": "c8328dd1",
   "metadata": {},
   "outputs": [
    {
     "data": {
      "text/plain": [
       "Float64"
      ]
     },
     "execution_count": 3,
     "metadata": {},
     "output_type": "execute_result"
    }
   ],
   "source": [
    "pi = 3.14159\n",
    "typeof(pi) # Numero decimal (float)"
   ]
  },
  {
   "cell_type": "code",
   "execution_count": 5,
   "id": "d6480a0a",
   "metadata": {},
   "outputs": [
    {
     "data": {
      "text/plain": [
       "String"
      ]
     },
     "execution_count": 5,
     "metadata": {},
     "output_type": "execute_result"
    }
   ],
   "source": [
    "😸 = \"gato sorridente!\"\n",
    "typeof(😸)\n",
    "\n",
    "# Para digitacao dinamica, basta: digitar \\:smi + tab -> selecionar emoji + enter -> tab + enter para finalizar"
   ]
  },
  {
   "cell_type": "code",
   "execution_count": 7,
   "id": "d405333c",
   "metadata": {},
   "outputs": [
    {
     "data": {
      "text/plain": [
       "Int64"
      ]
     },
     "execution_count": 7,
     "metadata": {},
     "output_type": "execute_result"
    }
   ],
   "source": [
    "# É possível redefinir facilmente uma variavel\n",
    "\n",
    "😸=1\n",
    "typeof(😸)"
   ]
  },
  {
   "cell_type": "code",
   "execution_count": 8,
   "id": "77fe77b0",
   "metadata": {},
   "outputs": [
    {
     "data": {
      "text/plain": [
       "true"
      ]
     },
     "execution_count": 8,
     "metadata": {},
     "output_type": "execute_result"
    }
   ],
   "source": [
    "# É possível escrever um código generico com simbolos, como:\n",
    "\n",
    "😄 = 0\n",
    "🛹 =-1\n",
    "\n",
    "😸 + 🛹 == 😄"
   ]
  },
  {
   "cell_type": "markdown",
   "id": "254cebb8",
   "metadata": {},
   "source": [
    "## Comentários"
   ]
  },
  {
   "cell_type": "code",
   "execution_count": 11,
   "id": "7c558aff",
   "metadata": {},
   "outputs": [],
   "source": [
    "# Para fazer um comentario, basta utilizar a hashtag\n",
    "\n",
    "#=\n",
    "Para comentarios em varias linhas, é possível usar o hashtag + igual\n",
    "=#"
   ]
  },
  {
   "cell_type": "markdown",
   "id": "d0452a40",
   "metadata": {},
   "source": [
    "## Sintaxe matemática"
   ]
  },
  {
   "cell_type": "code",
   "execution_count": 12,
   "id": "9922f1f0",
   "metadata": {},
   "outputs": [
    {
     "data": {
      "text/plain": [
       "10"
      ]
     },
     "execution_count": 12,
     "metadata": {},
     "output_type": "execute_result"
    }
   ],
   "source": [
    "soma=3+7"
   ]
  },
  {
   "cell_type": "code",
   "execution_count": 13,
   "id": "9c623ae2",
   "metadata": {},
   "outputs": [
    {
     "data": {
      "text/plain": [
       "7"
      ]
     },
     "execution_count": 13,
     "metadata": {},
     "output_type": "execute_result"
    }
   ],
   "source": [
    "diferenca=10-3"
   ]
  },
  {
   "cell_type": "code",
   "execution_count": 14,
   "id": "8dbba008",
   "metadata": {},
   "outputs": [
    {
     "data": {
      "text/plain": [
       "27"
      ]
     },
     "execution_count": 14,
     "metadata": {},
     "output_type": "execute_result"
    }
   ],
   "source": [
    "produto=3*9"
   ]
  },
  {
   "cell_type": "code",
   "execution_count": 15,
   "id": "d5063ba7",
   "metadata": {},
   "outputs": [
    {
     "data": {
      "text/plain": [
       "10.0"
      ]
     },
     "execution_count": 15,
     "metadata": {},
     "output_type": "execute_result"
    }
   ],
   "source": [
    "divisao=100/10"
   ]
  },
  {
   "cell_type": "code",
   "execution_count": 16,
   "id": "538ec5e1",
   "metadata": {},
   "outputs": [
    {
     "data": {
      "text/plain": [
       "1000"
      ]
     },
     "execution_count": 16,
     "metadata": {},
     "output_type": "execute_result"
    }
   ],
   "source": [
    "elevar=10^3"
   ]
  },
  {
   "cell_type": "code",
   "execution_count": 17,
   "id": "60402531",
   "metadata": {},
   "outputs": [
    {
     "data": {
      "text/plain": [
       "1"
      ]
     },
     "execution_count": 17,
     "metadata": {},
     "output_type": "execute_result"
    }
   ],
   "source": [
    "resto=101%2"
   ]
  },
  {
   "cell_type": "markdown",
   "id": "c2f509fc",
   "metadata": {},
   "source": [
    "## Exercicios"
   ]
  },
  {
   "cell_type": "markdown",
   "id": "495b1460",
   "metadata": {},
   "source": [
    "### Estude a função convert"
   ]
  },
  {
   "cell_type": "code",
   "execution_count": 18,
   "id": "a6446742",
   "metadata": {},
   "outputs": [],
   "source": [
    "#=\n",
    "A função convert permite, quando possivel, converter um determinado objeto de um tipo para outro (inteiro para decimal, etc)\n",
    "=#"
   ]
  },
  {
   "cell_type": "markdown",
   "id": "116eac28",
   "metadata": {},
   "source": [
    "### Defina uma variavel dias contendo 365. Converta ela para decimal e defina uma variavel dias_float."
   ]
  },
  {
   "cell_type": "code",
   "execution_count": 19,
   "id": "8051387b",
   "metadata": {},
   "outputs": [
    {
     "data": {
      "text/plain": [
       "365"
      ]
     },
     "execution_count": 19,
     "metadata": {},
     "output_type": "execute_result"
    }
   ],
   "source": [
    "dias=365"
   ]
  },
  {
   "cell_type": "code",
   "execution_count": 21,
   "id": "c9af59d8",
   "metadata": {},
   "outputs": [
    {
     "data": {
      "text/plain": [
       "365.0"
      ]
     },
     "execution_count": 21,
     "metadata": {},
     "output_type": "execute_result"
    }
   ],
   "source": [
    "dias_float=convert(Float64, dias)"
   ]
  },
  {
   "cell_type": "code",
   "execution_count": 22,
   "id": "5d290655",
   "metadata": {},
   "outputs": [],
   "source": [
    "@assert dias==365\n",
    "@assert dias_float==365.0"
   ]
  },
  {
   "cell_type": "markdown",
   "id": "b6046fc3",
   "metadata": {},
   "source": [
    "### O que acontece se executamos convert(Int64,\"1\") e parse(Int64,\"1\")?"
   ]
  },
  {
   "cell_type": "code",
   "execution_count": 23,
   "id": "02592d5b",
   "metadata": {},
   "outputs": [
    {
     "ename": "LoadError",
     "evalue": "MethodError: \u001b[0mCannot `convert` an object of type \u001b[92mString\u001b[39m\u001b[0m to an object of type \u001b[91mInt64\u001b[39m\n\u001b[0mClosest candidates are:\n\u001b[0m  convert(::Type{T}, \u001b[91m::Ptr\u001b[39m) where T<:Integer at C:\\Users\\Victor Dogo\\AppData\\Local\\Programs\\Julia-1.7.1\\share\\julia\\base\\pointer.jl:23\n\u001b[0m  convert(::Type{T}, \u001b[91m::T\u001b[39m) where T<:Number at C:\\Users\\Victor Dogo\\AppData\\Local\\Programs\\Julia-1.7.1\\share\\julia\\base\\number.jl:6\n\u001b[0m  convert(::Type{T}, \u001b[91m::Number\u001b[39m) where T<:Number at C:\\Users\\Victor Dogo\\AppData\\Local\\Programs\\Julia-1.7.1\\share\\julia\\base\\number.jl:7\n\u001b[0m  ...",
     "output_type": "error",
     "traceback": [
      "MethodError: \u001b[0mCannot `convert` an object of type \u001b[92mString\u001b[39m\u001b[0m to an object of type \u001b[91mInt64\u001b[39m\n\u001b[0mClosest candidates are:\n\u001b[0m  convert(::Type{T}, \u001b[91m::Ptr\u001b[39m) where T<:Integer at C:\\Users\\Victor Dogo\\AppData\\Local\\Programs\\Julia-1.7.1\\share\\julia\\base\\pointer.jl:23\n\u001b[0m  convert(::Type{T}, \u001b[91m::T\u001b[39m) where T<:Number at C:\\Users\\Victor Dogo\\AppData\\Local\\Programs\\Julia-1.7.1\\share\\julia\\base\\number.jl:6\n\u001b[0m  convert(::Type{T}, \u001b[91m::Number\u001b[39m) where T<:Number at C:\\Users\\Victor Dogo\\AppData\\Local\\Programs\\Julia-1.7.1\\share\\julia\\base\\number.jl:7\n\u001b[0m  ...",
      "",
      "Stacktrace:",
      " [1] top-level scope",
      "   @ In[23]:1",
      " [2] eval",
      "   @ .\\boot.jl:373 [inlined]",
      " [3] include_string(mapexpr::typeof(REPL.softscope), mod::Module, code::String, filename::String)",
      "   @ Base .\\loading.jl:1196"
     ]
    }
   ],
   "source": [
    "convert(Int64,\"1\")"
   ]
  },
  {
   "cell_type": "code",
   "execution_count": 24,
   "id": "cf693d8b",
   "metadata": {},
   "outputs": [
    {
     "data": {
      "text/plain": [
       "1"
      ]
     },
     "execution_count": 24,
     "metadata": {},
     "output_type": "execute_result"
    }
   ],
   "source": [
    "parse(Int64,\"1\")"
   ]
  },
  {
   "cell_type": "code",
   "execution_count": 25,
   "id": "c8feaf6c",
   "metadata": {},
   "outputs": [],
   "source": [
    "# Nao e possivel usar convert de string para int, mas podemos usar a funcao parse para isso."
   ]
  }
 ],
 "metadata": {
  "kernelspec": {
   "display_name": "Julia 1.7.1",
   "language": "julia",
   "name": "julia-1.7"
  },
  "language_info": {
   "file_extension": ".jl",
   "mimetype": "application/julia",
   "name": "julia",
   "version": "1.7.1"
  }
 },
 "nbformat": 4,
 "nbformat_minor": 5
}
