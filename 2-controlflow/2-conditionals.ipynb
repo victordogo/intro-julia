{
 "cells": [
  {
   "cell_type": "markdown",
   "metadata": {},
   "source": [
    "# Operadores condicionals\n",
    "\n",
    "Em julia, a sintaxe resume-se a \n",
    "\n",
    "```\n",
    "if *condicao 1*\n",
    "    *opcao 1*\n",
    "elseif *condicao 2*\n",
    "    *opcao 2*\n",
    "else\n",
    "    *opcao 3*\n",
    "end\n",
    "    \n",
    "```\n",
    "\n",
    "Para o primeiro exemplo, iremos comparar dois números. Sinta-se livre para escolher seus próprios números:"
   ]
  },
  {
   "cell_type": "code",
   "execution_count": 2,
   "metadata": {},
   "outputs": [
    {
     "name": "stdout",
     "output_type": "stream",
     "text": [
      "729 é maior do que 153\n"
     ]
    }
   ],
   "source": [
    "x = 153\n",
    "y = 27^2\n",
    "\n",
    "if x>y\n",
    "    println(\"$x é maior do que $y\")\n",
    "elseif y>x\n",
    "    println(\"$y é maior do que $x\")\n",
    "else\n",
    "    println(\"$y e $x são iguais!\")\n",
    "end"
   ]
  },
  {
   "cell_type": "markdown",
   "metadata": {},
   "source": [
    "E se quisermos retornar o maior de dois números?"
   ]
  },
  {
   "cell_type": "code",
   "execution_count": 5,
   "metadata": {},
   "outputs": [
    {
     "data": {
      "text/plain": [
       "729"
      ]
     },
     "metadata": {},
     "output_type": "display_data"
    }
   ],
   "source": [
    "if x>y\n",
    "    x\n",
    "else\n",
    "    y\n",
    "end"
   ]
  },
  {
   "cell_type": "markdown",
   "metadata": {},
   "source": [
    "Em Julia, para casos como a operação condicional acima, podemos usar a sintaxe `a ? b : c` que equivale a:\n",
    "\n",
    "```\n",
    "if a\n",
    "    b\n",
    "else\n",
    "    c\n",
    "end\n",
    "```"
   ]
  },
  {
   "cell_type": "code",
   "execution_count": 4,
   "metadata": {},
   "outputs": [
    {
     "data": {
      "text/plain": [
       "729"
      ]
     },
     "metadata": {},
     "output_type": "display_data"
    }
   ],
   "source": [
    "(x>y) ? x : y"
   ]
  },
  {
   "cell_type": "markdown",
   "metadata": {},
   "source": [
    "Podemos usar um pequeno truque para apresentar resultados usando a sintaxe `a && b`. Nela, a operação definida em `b` **só ocorre se a operação condicional definda em `a` for verdadeira**. Caso contrário, recebemos uma saída `false`:"
   ]
  },
  {
   "cell_type": "code",
   "execution_count": 7,
   "metadata": {},
   "outputs": [
    {
     "data": {
      "text/plain": [
       "false"
      ]
     },
     "metadata": {},
     "output_type": "display_data"
    }
   ],
   "source": [
    "(x>y) && println(\"$x é maior do que $y\")"
   ]
  },
  {
   "cell_type": "code",
   "execution_count": 8,
   "metadata": {},
   "outputs": [
    {
     "name": "stdout",
     "output_type": "stream",
     "text": [
      "153 é menor do que 729\n"
     ]
    }
   ],
   "source": [
    "(x<y) && println(\"$x é menor do que $y\")"
   ]
  }
 ],
 "metadata": {
  "kernelspec": {
   "display_name": "Julia 1.7.1",
   "language": "julia",
   "name": "julia-1.7"
  },
  "language_info": {
   "file_extension": ".jl",
   "mimetype": "application/julia",
   "name": "julia",
   "version": "1.7.1"
  },
  "orig_nbformat": 4
 },
 "nbformat": 4,
 "nbformat_minor": 2
}
