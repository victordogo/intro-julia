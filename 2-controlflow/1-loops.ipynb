{
 "cells": [
  {
   "cell_type": "markdown",
   "id": "dd3f95a0",
   "metadata": {},
   "source": [
    "# Loops\n",
    "\n",
    "Iremos aprender dois tipos de loops: while e for.\n",
    "\n",
    "## while loops\n",
    "\n",
    "Sua sintaxe resume-se em while (condição)// corpo do loop// end:"
   ]
  },
  {
   "cell_type": "code",
   "execution_count": 1,
   "id": "685555fa",
   "metadata": {},
   "outputs": [
    {
     "name": "stdout",
     "output_type": "stream",
     "text": [
      "1\n",
      "2\n",
      "3\n",
      "4\n",
      "5\n",
      "6\n",
      "7\n",
      "8\n",
      "9\n",
      "10\n"
     ]
    }
   ],
   "source": [
    "n = 0\n",
    "while n<10\n",
    "    n += 1 # Para cada iteracao, n aumenta em uma unidade e depois printamos\n",
    "    println(n)\n",
    "end"
   ]
  },
  {
   "cell_type": "code",
   "execution_count": 2,
   "id": "3f57d5e8",
   "metadata": {},
   "outputs": [
    {
     "name": "stdout",
     "output_type": "stream",
     "text": [
      "Olá Ted, é ótimo te ver!\n",
      "Olá Robyn, é ótimo te ver!\n",
      "Olá Barney, é ótimo te ver!\n",
      "Olá Lilly, é ótimo te ver!\n",
      "Olá Marshall, é ótimo te ver!\n"
     ]
    }
   ],
   "source": [
    "amigos=[\"Ted\", \"Robyn\", \"Barney\", \"Lilly\", \"Marshall\"]\n",
    "\n",
    "i=1\n",
    "while i <= length(amigos)\n",
    "    amigo=amigos[i]\n",
    "    println(\"Olá $amigo, é ótimo te ver!\")\n",
    "    i+=1\n",
    "end"
   ]
  },
  {
   "cell_type": "markdown",
   "id": "7440f00c",
   "metadata": {},
   "source": [
    "## for loops\n",
    "\n",
    "Loops do tipo for possuem sintaxe for *var* in *iteratividade do loop*// *corpo do loop*// end\n",
    "\n",
    "É possível usarmos um for loop para obtermos os mesmos resultados anteriores:"
   ]
  },
  {
   "cell_type": "code",
   "execution_count": 3,
   "id": "5c4625ea",
   "metadata": {},
   "outputs": [
    {
     "name": "stdout",
     "output_type": "stream",
     "text": [
      "1\n",
      "2\n",
      "3\n",
      "4\n",
      "5\n",
      "6\n",
      "7\n",
      "8\n",
      "9\n",
      "10\n"
     ]
    }
   ],
   "source": [
    "for n in 1:10\n",
    "    println(n)\n",
    "end"
   ]
  },
  {
   "cell_type": "code",
   "execution_count": 4,
   "id": "7c5454d9",
   "metadata": {},
   "outputs": [
    {
     "name": "stdout",
     "output_type": "stream",
     "text": [
      "Olá Ted, é ótimo te ver!\n",
      "Olá Robyn, é ótimo te ver!\n",
      "Olá Barney, é ótimo te ver!\n",
      "Olá Lilly, é ótimo te ver!\n",
      "Olá Marshall, é ótimo te ver!\n"
     ]
    }
   ],
   "source": [
    "amigos=[\"Ted\", \"Robyn\", \"Barney\", \"Lilly\", \"Marshall\"]\n",
    "\n",
    "for amigo in amigos\n",
    "    println(\"Olá $amigo, é ótimo te ver!\")\n",
    "end"
   ]
  },
  {
   "cell_type": "markdown",
   "id": "34c174ab",
   "metadata": {},
   "source": [
    "É possível substituirmos *in* por = ou `\\in`"
   ]
  },
  {
   "cell_type": "code",
   "execution_count": 7,
   "id": "cbd9c15f",
   "metadata": {},
   "outputs": [
    {
     "name": "stdout",
     "output_type": "stream",
     "text": [
      "1\n",
      "2\n",
      "3\n",
      "4\n",
      "5\n",
      "6\n",
      "7\n",
      "8\n",
      "9\n",
      "10\n"
     ]
    }
   ],
   "source": [
    "for n=1:10\n",
    "    println(n)\n",
    "end"
   ]
  },
  {
   "cell_type": "code",
   "execution_count": 8,
   "id": "7207562d",
   "metadata": {},
   "outputs": [
    {
     "name": "stdout",
     "output_type": "stream",
     "text": [
      "1\n",
      "2\n",
      "3\n",
      "4\n",
      "5\n",
      "6\n",
      "7\n",
      "8\n",
      "9\n",
      "10\n"
     ]
    }
   ],
   "source": [
    "for n ∈ 1:10 \n",
    "    println(n)\n",
    "end"
   ]
  },
  {
   "cell_type": "markdown",
   "id": "086b1c12",
   "metadata": {},
   "source": [
    "Para o próximo exemplo, iremos usar um for loop para criar uma tabela em que cada valor é a soma do índice de sua linha e coluna.\n",
    "\n",
    "Primeiro, comecemos com uma matriz de zeros:"
   ]
  },
  {
   "cell_type": "code",
   "execution_count": 11,
   "id": "9660a67b",
   "metadata": {},
   "outputs": [
    {
     "data": {
      "text/plain": [
       "5×5 Matrix{Float64}:\n",
       " 2.0  3.0  4.0  5.0   6.0\n",
       " 3.0  4.0  5.0  6.0   7.0\n",
       " 4.0  5.0  6.0  7.0   8.0\n",
       " 5.0  6.0  7.0  8.0   9.0\n",
       " 6.0  7.0  8.0  9.0  10.0"
      ]
     },
     "metadata": {},
     "output_type": "display_data"
    }
   ],
   "source": [
    "m,n=5,5\n",
    "\n",
    "A = zeros(m,n)\n",
    "\n",
    "for i in 1:m \n",
    "    for j in 1:n\n",
    "        A[i,j]=i+j\n",
    "    end\n",
    "end\n",
    "\n",
    "A"
   ]
  },
  {
   "cell_type": "markdown",
   "id": "cf23fc28",
   "metadata": {},
   "source": [
    "Podemos criar a matriz acima de uma maneira ainda mais concisa ao definirmos várias variáveis num for loop:"
   ]
  },
  {
   "cell_type": "code",
   "execution_count": 17,
   "id": "eaf4c70d",
   "metadata": {},
   "outputs": [
    {
     "data": {
      "text/plain": [
       "5×5 Matrix{Float64}:\n",
       " 2.0  3.0  4.0  5.0   6.0\n",
       " 3.0  4.0  5.0  6.0   7.0\n",
       " 4.0  5.0  6.0  7.0   8.0\n",
       " 5.0  6.0  7.0  8.0   9.0\n",
       " 6.0  7.0  8.0  9.0  10.0"
      ]
     },
     "metadata": {},
     "output_type": "display_data"
    }
   ],
   "source": [
    "B=zeros(m,n)\n",
    "\n",
    "for i in 1:m, j in 1:n \n",
    "    B[i,j]=i+j\n",
    "end\n",
    "\n",
    "B"
   ]
  },
  {
   "cell_type": "markdown",
   "id": "a8a765eb",
   "metadata": {},
   "source": [
    "Existe uma maneira diferente de fazermos isso: através de um *array comprehension*: "
   ]
  },
  {
   "cell_type": "code",
   "execution_count": 15,
   "id": "adf12dc3",
   "metadata": {},
   "outputs": [
    {
     "data": {
      "text/plain": [
       "5×5 Matrix{Int64}:\n",
       " 2  3  4  5   6\n",
       " 3  4  5  6   7\n",
       " 4  5  6  7   8\n",
       " 5  6  7  8   9\n",
       " 6  7  8  9  10"
      ]
     },
     "metadata": {},
     "output_type": "display_data"
    }
   ],
   "source": [
    "C=[i+j for i in 1:m, j in 1:n]\n",
    "\n",
    "C"
   ]
  },
  {
   "cell_type": "markdown",
   "id": "08551484",
   "metadata": {},
   "source": [
    "Podemos combinar tudo numa coisa só: num for loop, iremos definir uma matriz (igual às anteriores) que aumenta de tamanho de acordo com cada iteração usando um *array comprehension*:"
   ]
  },
  {
   "cell_type": "code",
   "execution_count": 19,
   "id": "613267fd",
   "metadata": {},
   "outputs": [
    {
     "data": {
      "text/plain": [
       "1×1 Matrix{Int64}:\n",
       " 2"
      ]
     },
     "metadata": {},
     "output_type": "display_data"
    },
    {
     "data": {
      "text/plain": [
       "2×2 Matrix{Int64}:\n",
       " 2  3\n",
       " 3  4"
      ]
     },
     "metadata": {},
     "output_type": "display_data"
    },
    {
     "data": {
      "text/plain": [
       "3×3 Matrix{Int64}:\n",
       " 2  3  4\n",
       " 3  4  5\n",
       " 4  5  6"
      ]
     },
     "metadata": {},
     "output_type": "display_data"
    },
    {
     "data": {
      "text/plain": [
       "4×4 Matrix{Int64}:\n",
       " 2  3  4  5\n",
       " 3  4  5  6\n",
       " 4  5  6  7\n",
       " 5  6  7  8"
      ]
     },
     "metadata": {},
     "output_type": "display_data"
    },
    {
     "data": {
      "text/plain": [
       "5×5 Matrix{Int64}:\n",
       " 2  3  4  5   6\n",
       " 3  4  5  6   7\n",
       " 4  5  6  7   8\n",
       " 5  6  7  8   9\n",
       " 6  7  8  9  10"
      ]
     },
     "metadata": {},
     "output_type": "display_data"
    },
    {
     "data": {
      "text/plain": [
       "6×6 Matrix{Int64}:\n",
       " 2  3  4   5   6   7\n",
       " 3  4  5   6   7   8\n",
       " 4  5  6   7   8   9\n",
       " 5  6  7   8   9  10\n",
       " 6  7  8   9  10  11\n",
       " 7  8  9  10  11  12"
      ]
     },
     "metadata": {},
     "output_type": "display_data"
    },
    {
     "data": {
      "text/plain": [
       "7×7 Matrix{Int64}:\n",
       " 2  3   4   5   6   7   8\n",
       " 3  4   5   6   7   8   9\n",
       " 4  5   6   7   8   9  10\n",
       " 5  6   7   8   9  10  11\n",
       " 6  7   8   9  10  11  12\n",
       " 7  8   9  10  11  12  13\n",
       " 8  9  10  11  12  13  14"
      ]
     },
     "metadata": {},
     "output_type": "display_data"
    },
    {
     "data": {
      "text/plain": [
       "8×8 Matrix{Int64}:\n",
       " 2   3   4   5   6   7   8   9\n",
       " 3   4   5   6   7   8   9  10\n",
       " 4   5   6   7   8   9  10  11\n",
       " 5   6   7   8   9  10  11  12\n",
       " 6   7   8   9  10  11  12  13\n",
       " 7   8   9  10  11  12  13  14\n",
       " 8   9  10  11  12  13  14  15\n",
       " 9  10  11  12  13  14  15  16"
      ]
     },
     "metadata": {},
     "output_type": "display_data"
    },
    {
     "data": {
      "text/plain": [
       "9×9 Matrix{Int64}:\n",
       "  2   3   4   5   6   7   8   9  10\n",
       "  3   4   5   6   7   8   9  10  11\n",
       "  4   5   6   7   8   9  10  11  12\n",
       "  5   6   7   8   9  10  11  12  13\n",
       "  6   7   8   9  10  11  12  13  14\n",
       "  7   8   9  10  11  12  13  14  15\n",
       "  8   9  10  11  12  13  14  15  16\n",
       "  9  10  11  12  13  14  15  16  17\n",
       " 10  11  12  13  14  15  16  17  18"
      ]
     },
     "metadata": {},
     "output_type": "display_data"
    },
    {
     "data": {
      "text/plain": [
       "10×10 Matrix{Int64}:\n",
       "  2   3   4   5   6   7   8   9  10  11\n",
       "  3   4   5   6   7   8   9  10  11  12\n",
       "  4   5   6   7   8   9  10  11  12  13\n",
       "  5   6   7   8   9  10  11  12  13  14\n",
       "  6   7   8   9  10  11  12  13  14  15\n",
       "  7   8   9  10  11  12  13  14  15  16\n",
       "  8   9  10  11  12  13  14  15  16  17\n",
       "  9  10  11  12  13  14  15  16  17  18\n",
       " 10  11  12  13  14  15  16  17  18  19\n",
       " 11  12  13  14  15  16  17  18  19  20"
      ]
     },
     "metadata": {},
     "output_type": "display_data"
    }
   ],
   "source": [
    "for n in 1:10 \n",
    "    A=[i+j for i in 1:n, j in 1:n]\n",
    "    display(A)\n",
    "end"
   ]
  }
 ],
 "metadata": {
  "kernelspec": {
   "display_name": "Julia 1.7.1",
   "language": "julia",
   "name": "julia-1.7"
  },
  "language_info": {
   "file_extension": ".jl",
   "mimetype": "application/julia",
   "name": "julia",
   "version": "1.7.1"
  }
 },
 "nbformat": 4,
 "nbformat_minor": 5
}
