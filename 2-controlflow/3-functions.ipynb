{
 "cells": [
  {
   "cell_type": "markdown",
   "metadata": {},
   "source": [
    "# Funções\n",
    "\n",
    "## Como declarar uma função?\n",
    "\n",
    "Em Julia, podemos definir funções de diferentes formas. A primeira requer as palavars `function` e `end`, como podemos ver abaixo:"
   ]
  },
  {
   "cell_type": "code",
   "execution_count": 4,
   "metadata": {},
   "outputs": [
    {
     "data": {
      "text/plain": [
       "diga_ola (generic function with 1 method)"
      ]
     },
     "metadata": {},
     "output_type": "display_data"
    }
   ],
   "source": [
    "function diga_ola(nome)\n",
    "    println(\"Olá $nome, que bom te ver!\")\n",
    "end"
   ]
  },
  {
   "cell_type": "code",
   "execution_count": 5,
   "metadata": {},
   "outputs": [
    {
     "data": {
      "text/plain": [
       "eleva_quadrado (generic function with 1 method)"
      ]
     },
     "metadata": {},
     "output_type": "display_data"
    }
   ],
   "source": [
    "function eleva_quadrado(x)\n",
    "    x^2\n",
    "end"
   ]
  },
  {
   "cell_type": "markdown",
   "metadata": {},
   "source": [
    "Podemos então utilizá-las da seguinte forma:"
   ]
  },
  {
   "cell_type": "code",
   "execution_count": 6,
   "metadata": {},
   "outputs": [
    {
     "name": "stdout",
     "output_type": "stream",
     "text": [
      "Olá Anakin Skywalker, que bom te ver!\n"
     ]
    }
   ],
   "source": [
    "diga_ola(\"Anakin Skywalker\")"
   ]
  },
  {
   "cell_type": "code",
   "execution_count": 7,
   "metadata": {},
   "outputs": [
    {
     "data": {
      "text/plain": [
       "309136"
      ]
     },
     "metadata": {},
     "output_type": "display_data"
    }
   ],
   "source": [
    "eleva_quadrado(556)"
   ]
  },
  {
   "cell_type": "markdown",
   "metadata": {},
   "source": [
    "Alternativamente, podemos definir uma função em uma linha só utilizando a sintaxe:\n",
    "\n",
    "```\n",
    "funcao(argumento) = *corpo da funcao*\n",
    "```"
   ]
  },
  {
   "cell_type": "code",
   "execution_count": 8,
   "metadata": {},
   "outputs": [
    {
     "data": {
      "text/plain": [
       "diga_ola2 (generic function with 1 method)"
      ]
     },
     "metadata": {},
     "output_type": "display_data"
    }
   ],
   "source": [
    "diga_ola2(nome)=println(\"Olá $nome, que bom te ver!\")"
   ]
  },
  {
   "cell_type": "code",
   "execution_count": 9,
   "metadata": {},
   "outputs": [
    {
     "data": {
      "text/plain": [
       "eleva_quadrado2 (generic function with 1 method)"
      ]
     },
     "metadata": {},
     "output_type": "display_data"
    }
   ],
   "source": [
    "eleva_quadrado2(x)=x^2"
   ]
  },
  {
   "cell_type": "code",
   "execution_count": 10,
   "metadata": {},
   "outputs": [
    {
     "name": "stdout",
     "output_type": "stream",
     "text": [
      "Olá Darth Vader, que bom te ver!\n"
     ]
    }
   ],
   "source": [
    "diga_ola2(\"Darth Vader\")"
   ]
  },
  {
   "cell_type": "code",
   "execution_count": 11,
   "metadata": {},
   "outputs": [
    {
     "data": {
      "text/plain": [
       "810000"
      ]
     },
     "metadata": {},
     "output_type": "display_data"
    }
   ],
   "source": [
    "eleva_quadrado2(900)"
   ]
  },
  {
   "cell_type": "markdown",
   "metadata": {},
   "source": [
    "Em último lugar, mas não menos importante, podemos definir funções anônimas usando a sintaxe:\n",
    "\n",
    "```\n",
    "funcao = argumento -> *corpo da funcao*\n",
    "```"
   ]
  },
  {
   "cell_type": "code",
   "execution_count": 12,
   "metadata": {},
   "outputs": [
    {
     "data": {
      "text/plain": [
       "#3 (generic function with 1 method)"
      ]
     },
     "metadata": {},
     "output_type": "display_data"
    }
   ],
   "source": [
    "ola3 = nome -> println(\"Olá $nome, que bom te ver!\")"
   ]
  },
  {
   "cell_type": "code",
   "execution_count": 13,
   "metadata": {},
   "outputs": [
    {
     "data": {
      "text/plain": [
       "#5 (generic function with 1 method)"
      ]
     },
     "metadata": {},
     "output_type": "display_data"
    }
   ],
   "source": [
    "quadrado3 = x -> x^2"
   ]
  },
  {
   "cell_type": "code",
   "execution_count": 16,
   "metadata": {},
   "outputs": [
    {
     "name": "stdout",
     "output_type": "stream",
     "text": [
      "Olá Obi-Wan, que bom te ver!\n"
     ]
    }
   ],
   "source": [
    "ola3(\"Obi-Wan\")"
   ]
  },
  {
   "cell_type": "code",
   "execution_count": 17,
   "metadata": {},
   "outputs": [
    {
     "data": {
      "text/plain": [
       "9801"
      ]
     },
     "metadata": {},
     "output_type": "display_data"
    }
   ],
   "source": [
    "quadrado3(99)"
   ]
  },
  {
   "cell_type": "markdown",
   "metadata": {},
   "source": [
    "## Duck-typing em Julia\n",
    "\n",
    "As funções construídas em Julia funcionarão em quaisquer argumentos que fizerem sentido para o que foi definido. Para citar um exemplo, nossa funcao `diga_ola()` funciona com números inteiros:"
   ]
  },
  {
   "cell_type": "code",
   "execution_count": 18,
   "metadata": {},
   "outputs": [
    {
     "name": "stdout",
     "output_type": "stream",
     "text": [
      "Olá 556, que bom te ver!\n"
     ]
    }
   ],
   "source": [
    "diga_ola(556)"
   ]
  },
  {
   "cell_type": "markdown",
   "metadata": {},
   "source": [
    "E a função `eleva_quadrado()` funciona numa matriz:"
   ]
  },
  {
   "cell_type": "code",
   "execution_count": 21,
   "metadata": {},
   "outputs": [
    {
     "data": {
      "text/plain": [
       "5×5 Matrix{Float64}:\n",
       " 0.854768  0.0620309  0.64288   0.0530943  0.9534\n",
       " 0.997279  0.192749   0.661447  0.948799   0.630441\n",
       " 0.571031  0.509497   0.693228  0.242374   0.863476\n",
       " 0.720974  0.616861   0.333493  0.86096    0.184905\n",
       " 0.341594  0.389592   0.755519  0.0849719  0.0269882"
      ]
     },
     "metadata": {},
     "output_type": "display_data"
    }
   ],
   "source": [
    "A = rand(5,5)"
   ]
  },
  {
   "cell_type": "code",
   "execution_count": 22,
   "metadata": {},
   "outputs": [
    {
     "data": {
      "text/plain": [
       "5×5 Matrix{Float64}:\n",
       " 1.52355  0.796713  1.77422  0.38678   1.4447\n",
       " 2.32179  1.26691   2.01989  1.2666    1.83592\n",
       " 1.86177  0.972739  1.91788  0.963795  1.53233\n",
       " 2.10578  0.936666  1.52953  1.46135   1.52842\n",
       " 1.18242  0.544148  1.04977  0.64635   1.2401"
      ]
     },
     "metadata": {},
     "output_type": "display_data"
    }
   ],
   "source": [
    "eleva_quadrado(A)"
   ]
  },
  {
   "cell_type": "markdown",
   "metadata": {},
   "source": [
    "Por outro lado, não podemos aplicar a função `eleva_quadrado()` à um vetor. Isso ocorre pois a operação de elevarmos uma matriz ao quadrado é bem definida, enquanto que elevarmos um vetor ao quadrado é uma operação **ambígua:** "
   ]
  },
  {
   "cell_type": "code",
   "execution_count": 23,
   "metadata": {},
   "outputs": [
    {
     "data": {
      "text/plain": [
       "7-element Vector{Float64}:\n",
       " 0.2973536388419594\n",
       " 0.09292418001436709\n",
       " 0.06653218452890786\n",
       " 0.47035629355953745\n",
       " 0.5864783529406374\n",
       " 0.1901726236990411\n",
       " 0.7796777288945048"
      ]
     },
     "metadata": {},
     "output_type": "display_data"
    }
   ],
   "source": [
    "v=rand(7)"
   ]
  },
  {
   "cell_type": "code",
   "execution_count": 24,
   "metadata": {},
   "outputs": [
    {
     "ename": "MethodError",
     "evalue": "MethodError: no method matching ^(::Vector{Float64}, ::Int64)\nClosest candidates are:\n  ^(!Matched::Union{AbstractChar, AbstractString}, ::Integer) at C:\\Users\\Victor Dogo\\AppData\\Local\\Programs\\Julia-1.7.1\\share\\julia\\base\\strings\\basic.jl:721\n  ^(!Matched::Complex{<:AbstractFloat}, ::Integer) at C:\\Users\\Victor Dogo\\AppData\\Local\\Programs\\Julia-1.7.1\\share\\julia\\base\\complex.jl:839\n  ^(!Matched::Complex{<:Integer}, ::Integer) at C:\\Users\\Victor Dogo\\AppData\\Local\\Programs\\Julia-1.7.1\\share\\julia\\base\\complex.jl:841\n  ...",
     "output_type": "error",
     "traceback": [
      "MethodError: no method matching ^(::Vector{Float64}, ::Int64)\n",
      "Closest candidates are:\n",
      "  ^(!Matched::Union{AbstractChar, AbstractString}, ::Integer) at C:\\Users\\Victor Dogo\\AppData\\Local\\Programs\\Julia-1.7.1\\share\\julia\\base\\strings\\basic.jl:721\n",
      "  ^(!Matched::Complex{<:AbstractFloat}, ::Integer) at C:\\Users\\Victor Dogo\\AppData\\Local\\Programs\\Julia-1.7.1\\share\\julia\\base\\complex.jl:839\n",
      "  ^(!Matched::Complex{<:Integer}, ::Integer) at C:\\Users\\Victor Dogo\\AppData\\Local\\Programs\\Julia-1.7.1\\share\\julia\\base\\complex.jl:841\n",
      "  ...\n",
      "\n",
      "Stacktrace:\n",
      "  [1] literal_pow\n",
      "    @ .\\intfuncs.jl:325 [inlined]\n",
      "  [2] eleva_quadrado(x::Vector{Float64})\n",
      "    @ Main c:\\Users\\Victor Dogo\\Documents\\FACULDADE\\programacao\\cursos-julia\\intro-julia\\2-controlflow\\3-functions.ipynb:2\n",
      "  [3] top-level scope\n",
      "    @ c:\\Users\\Victor Dogo\\Documents\\FACULDADE\\programacao\\cursos-julia\\intro-julia\\2-controlflow\\3-functions.ipynb:1\n",
      "  [4] eval\n",
      "    @ .\\boot.jl:373 [inlined]\n",
      "  [5] include_string(mapexpr::typeof(REPL.softscope), mod::Module, code::String, filename::String)\n",
      "    @ Base .\\loading.jl:1196\n",
      "  [6] #invokelatest#2\n",
      "    @ .\\essentials.jl:716 [inlined]\n",
      "  [7] invokelatest\n",
      "    @ .\\essentials.jl:714 [inlined]\n",
      "  [8] (::VSCodeServer.var\"#150#151\"{VSCodeServer.NotebookRunCellArguments, String})()\n",
      "    @ VSCodeServer c:\\Users\\Victor Dogo\\.vscode\\extensions\\julialang.language-julia-1.5.11\\scripts\\packages\\VSCodeServer\\src\\serve_notebook.jl:18\n",
      "  [9] withpath(f::VSCodeServer.var\"#150#151\"{VSCodeServer.NotebookRunCellArguments, String}, path::String)\n",
      "    @ VSCodeServer c:\\Users\\Victor Dogo\\.vscode\\extensions\\julialang.language-julia-1.5.11\\scripts\\packages\\VSCodeServer\\src\\repl.jl:185\n",
      " [10] notebook_runcell_request(conn::VSCodeServer.JSONRPC.JSONRPCEndpoint{Base.PipeEndpoint, Base.PipeEndpoint}, params::VSCodeServer.NotebookRunCellArguments)\n",
      "    @ VSCodeServer c:\\Users\\Victor Dogo\\.vscode\\extensions\\julialang.language-julia-1.5.11\\scripts\\packages\\VSCodeServer\\src\\serve_notebook.jl:14\n",
      " [11] dispatch_msg(x::VSCodeServer.JSONRPC.JSONRPCEndpoint{Base.PipeEndpoint, Base.PipeEndpoint}, dispatcher::VSCodeServer.JSONRPC.MsgDispatcher, msg::Dict{String, Any})\n",
      "    @ VSCodeServer.JSONRPC c:\\Users\\Victor Dogo\\.vscode\\extensions\\julialang.language-julia-1.5.11\\scripts\\packages\\JSONRPC\\src\\typed.jl:67\n",
      " [12] serve_notebook(pipename::String; crashreporting_pipename::String)\n",
      "    @ VSCodeServer c:\\Users\\Victor Dogo\\.vscode\\extensions\\julialang.language-julia-1.5.11\\scripts\\packages\\VSCodeServer\\src\\serve_notebook.jl:94\n",
      " [13] top-level scope\n",
      "    @ c:\\Users\\Victor Dogo\\.vscode\\extensions\\julialang.language-julia-1.5.11\\scripts\\notebook\\notebook.jl:12\n",
      " [14] include(mod::Module, _path::String)\n",
      "    @ Base .\\Base.jl:418\n",
      " [15] exec_options(opts::Base.JLOptions)\n",
      "    @ Base .\\client.jl:292\n",
      " [16] _start()\n",
      "    @ Base .\\client.jl:495"
     ]
    }
   ],
   "source": [
    "eleva_quadrado(v)"
   ]
  },
  {
   "cell_type": "markdown",
   "metadata": {},
   "source": [
    "## Funções mutáveis e imutáveis\n",
    "\n",
    "Por definição, funções com `!` alteram seus conteúdos e funções sem `!`, não. Vejamos a diferença entre `sort` e `sort!`:"
   ]
  },
  {
   "cell_type": "code",
   "execution_count": 25,
   "metadata": {},
   "outputs": [
    {
     "data": {
      "text/plain": [
       "4-element Vector{Int64}:\n",
       "  7\n",
       "  4\n",
       " 90\n",
       " 32"
      ]
     },
     "metadata": {},
     "output_type": "display_data"
    }
   ],
   "source": [
    "v=[7,4,90,32]"
   ]
  },
  {
   "cell_type": "code",
   "execution_count": 26,
   "metadata": {},
   "outputs": [
    {
     "data": {
      "text/plain": [
       "4-element Vector{Int64}:\n",
       "  4\n",
       "  7\n",
       " 32\n",
       " 90"
      ]
     },
     "metadata": {},
     "output_type": "display_data"
    }
   ],
   "source": [
    "sort(v)"
   ]
  },
  {
   "cell_type": "code",
   "execution_count": 27,
   "metadata": {},
   "outputs": [
    {
     "data": {
      "text/plain": [
       "4-element Vector{Int64}:\n",
       "  7\n",
       "  4\n",
       " 90\n",
       " 32"
      ]
     },
     "metadata": {},
     "output_type": "display_data"
    }
   ],
   "source": [
    "v"
   ]
  },
  {
   "cell_type": "code",
   "execution_count": 28,
   "metadata": {},
   "outputs": [
    {
     "data": {
      "text/plain": [
       "4-element Vector{Int64}:\n",
       "  4\n",
       "  7\n",
       " 32\n",
       " 90"
      ]
     },
     "metadata": {},
     "output_type": "display_data"
    }
   ],
   "source": [
    "sort!(v)"
   ]
  },
  {
   "cell_type": "code",
   "execution_count": 29,
   "metadata": {},
   "outputs": [
    {
     "data": {
      "text/plain": [
       "4-element Vector{Int64}:\n",
       "  4\n",
       "  7\n",
       " 32\n",
       " 90"
      ]
     },
     "metadata": {},
     "output_type": "display_data"
    }
   ],
   "source": [
    "v"
   ]
  },
  {
   "cell_type": "markdown",
   "metadata": {},
   "source": [
    "Veja que interessante: na função `sort!`, a função retornou o vetor ordenado **e** alterou o vetor original para que este estivesse ordenado também.\n",
    "\n",
    "## Broadcasting\n",
    "\n",
    "Ao colocarmos `.` entre qualquer nome de função e a lista de seus argumentos, nós dizemos à função para que ela seja aplicada **a cada um dos elementos de nossos argumentos**. Para enxergar melhor essa diferença, definamos uma matriz e apliquemos a função `eleva_quadrado()`:"
   ]
  },
  {
   "cell_type": "code",
   "execution_count": 30,
   "metadata": {},
   "outputs": [
    {
     "data": {
      "text/plain": [
       "3×3 Matrix{Int64}:\n",
       " 1  2  3\n",
       " 4  5  6\n",
       " 7  8  9"
      ]
     },
     "metadata": {},
     "output_type": "display_data"
    }
   ],
   "source": [
    "A = [i+3*j for j in 0:2, i in 1:3]"
   ]
  },
  {
   "cell_type": "code",
   "execution_count": 33,
   "metadata": {},
   "outputs": [
    {
     "data": {
      "text/plain": [
       "3×3 Matrix{Int64}:\n",
       "  30   36   42\n",
       "  66   81   96\n",
       " 102  126  150"
      ]
     },
     "metadata": {},
     "output_type": "display_data"
    }
   ],
   "source": [
    "eleva_quadrado(A)"
   ]
  },
  {
   "cell_type": "markdown",
   "metadata": {},
   "source": [
    "O output acima é esperado: elevamos uma matriz ao quadrado, uma operação definida como A*A. Mas o que acontece se utilizarmos o broadcasting aplicado à nossa função?"
   ]
  },
  {
   "cell_type": "code",
   "execution_count": 34,
   "metadata": {},
   "outputs": [
    {
     "data": {
      "text/plain": [
       "3×3 Matrix{Int64}:\n",
       "  1   4   9\n",
       " 16  25  36\n",
       " 49  64  81"
      ]
     },
     "metadata": {},
     "output_type": "display_data"
    }
   ],
   "source": [
    "eleva_quadrado.(A)"
   ]
  },
  {
   "cell_type": "markdown",
   "metadata": {},
   "source": [
    "Ao realizarmos o comando da forma apresentada acima (com `.` depois do nome da função), estamos dizendo para Julia: **ao invés de multiplicar a matriz definida por ela mesma, eleve cada um de seus elementos ao quadrado**. Em suma:\n",
    "\n",
    "1. Sem `.`: tratamos o input como um objeto só;\n",
    "2. Com `.`: tratamos o input como um conjunto de objetos, com a função sendo aplicada a cada um deles.\n",
    "\n",
    "Logo, se antes a função `eleva_quadrado` não era aplicável a um vetor, a função `eleva_quadrado.` agora é:"
   ]
  },
  {
   "cell_type": "code",
   "execution_count": 35,
   "metadata": {},
   "outputs": [
    {
     "data": {
      "text/plain": [
       "4-element Vector{Int64}:\n",
       " 1\n",
       " 2\n",
       " 3\n",
       " 4"
      ]
     },
     "metadata": {},
     "output_type": "display_data"
    }
   ],
   "source": [
    "v=[1,2,3,4]"
   ]
  },
  {
   "cell_type": "code",
   "execution_count": 36,
   "metadata": {},
   "outputs": [
    {
     "data": {
      "text/plain": [
       "4-element Vector{Int64}:\n",
       "  1\n",
       "  4\n",
       "  9\n",
       " 16"
      ]
     },
     "metadata": {},
     "output_type": "display_data"
    }
   ],
   "source": [
    "eleva_quadrado.(v)"
   ]
  }
 ],
 "metadata": {
  "kernelspec": {
   "display_name": "Julia 1.7.1",
   "language": "julia",
   "name": "julia-1.7"
  },
  "language_info": {
   "file_extension": ".jl",
   "mimetype": "application/julia",
   "name": "julia",
   "version": "1.7.1"
  },
  "orig_nbformat": 4
 },
 "nbformat": 4,
 "nbformat_minor": 2
}
